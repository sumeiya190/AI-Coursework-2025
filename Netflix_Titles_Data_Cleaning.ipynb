{
 "cells": [
  {
   "cell_type": "markdown",
   "id": "5ba2bb25-b360-4820-b21f-a4a9026a8cfc",
   "metadata": {},
   "source": [
    "# Names\n",
    "1. 169084 - Ali Omar\n",
    "2. 168945 - Denzel Ngare\n",
    "3. 169819 - Sumeiya Abass\n",
    "4. 169977 - Suweyba Ahmed\n",
    "5. 150496 - Emran Abdi Ahmed\n",
    "6. 150350 - Alio Ilyas Abdi"
   ]
  },
  {
   "cell_type": "markdown",
   "id": "149eaaef-f1b9-4e4c-996f-cf28120498fb",
   "metadata": {},
   "source": [
    "# Netflix Titles Data Cleaning"
   ]
  },
  {
   "cell_type": "code",
   "execution_count": 1,
   "id": "9f095185-fc88-4cb7-a7a6-2915cfb484c9",
   "metadata": {},
   "outputs": [
    {
     "data": {
      "text/html": [
       "<div>\n",
       "<style scoped>\n",
       "    .dataframe tbody tr th:only-of-type {\n",
       "        vertical-align: middle;\n",
       "    }\n",
       "\n",
       "    .dataframe tbody tr th {\n",
       "        vertical-align: top;\n",
       "    }\n",
       "\n",
       "    .dataframe thead th {\n",
       "        text-align: right;\n",
       "    }\n",
       "</style>\n",
       "<table border=\"1\" class=\"dataframe\">\n",
       "  <thead>\n",
       "    <tr style=\"text-align: right;\">\n",
       "      <th></th>\n",
       "      <th>show_id</th>\n",
       "      <th>type</th>\n",
       "      <th>title</th>\n",
       "      <th>director</th>\n",
       "      <th>cast</th>\n",
       "      <th>country</th>\n",
       "      <th>date_added</th>\n",
       "      <th>release_year</th>\n",
       "      <th>rating</th>\n",
       "      <th>duration</th>\n",
       "      <th>listed_in</th>\n",
       "      <th>description</th>\n",
       "    </tr>\n",
       "  </thead>\n",
       "  <tbody>\n",
       "    <tr>\n",
       "      <th>0</th>\n",
       "      <td>s1</td>\n",
       "      <td>Movie</td>\n",
       "      <td>Dick Johnson Is Dead</td>\n",
       "      <td>Kirsten Johnson</td>\n",
       "      <td>NaN</td>\n",
       "      <td>United States</td>\n",
       "      <td>September 25, 2021</td>\n",
       "      <td>2020</td>\n",
       "      <td>PG-13</td>\n",
       "      <td>90 min</td>\n",
       "      <td>Documentaries</td>\n",
       "      <td>As her father nears the end of his life, filmm...</td>\n",
       "    </tr>\n",
       "    <tr>\n",
       "      <th>1</th>\n",
       "      <td>s2</td>\n",
       "      <td>TV Show</td>\n",
       "      <td>Blood &amp; Water</td>\n",
       "      <td>NaN</td>\n",
       "      <td>Ama Qamata, Khosi Ngema, Gail Mabalane, Thaban...</td>\n",
       "      <td>South Africa</td>\n",
       "      <td>September 24, 2021</td>\n",
       "      <td>2021</td>\n",
       "      <td>TV-MA</td>\n",
       "      <td>2 Seasons</td>\n",
       "      <td>International TV Shows, TV Dramas, TV Mysteries</td>\n",
       "      <td>After crossing paths at a party, a Cape Town t...</td>\n",
       "    </tr>\n",
       "    <tr>\n",
       "      <th>2</th>\n",
       "      <td>s3</td>\n",
       "      <td>TV Show</td>\n",
       "      <td>Ganglands</td>\n",
       "      <td>Julien Leclercq</td>\n",
       "      <td>Sami Bouajila, Tracy Gotoas, Samuel Jouy, Nabi...</td>\n",
       "      <td>NaN</td>\n",
       "      <td>September 24, 2021</td>\n",
       "      <td>2021</td>\n",
       "      <td>TV-MA</td>\n",
       "      <td>1 Season</td>\n",
       "      <td>Crime TV Shows, International TV Shows, TV Act...</td>\n",
       "      <td>To protect his family from a powerful drug lor...</td>\n",
       "    </tr>\n",
       "    <tr>\n",
       "      <th>3</th>\n",
       "      <td>s4</td>\n",
       "      <td>TV Show</td>\n",
       "      <td>Jailbirds New Orleans</td>\n",
       "      <td>NaN</td>\n",
       "      <td>NaN</td>\n",
       "      <td>NaN</td>\n",
       "      <td>September 24, 2021</td>\n",
       "      <td>2021</td>\n",
       "      <td>TV-MA</td>\n",
       "      <td>1 Season</td>\n",
       "      <td>Docuseries, Reality TV</td>\n",
       "      <td>Feuds, flirtations and toilet talk go down amo...</td>\n",
       "    </tr>\n",
       "    <tr>\n",
       "      <th>4</th>\n",
       "      <td>s5</td>\n",
       "      <td>TV Show</td>\n",
       "      <td>Kota Factory</td>\n",
       "      <td>NaN</td>\n",
       "      <td>Mayur More, Jitendra Kumar, Ranjan Raj, Alam K...</td>\n",
       "      <td>India</td>\n",
       "      <td>September 24, 2021</td>\n",
       "      <td>2021</td>\n",
       "      <td>TV-MA</td>\n",
       "      <td>2 Seasons</td>\n",
       "      <td>International TV Shows, Romantic TV Shows, TV ...</td>\n",
       "      <td>In a city of coaching centers known to train I...</td>\n",
       "    </tr>\n",
       "  </tbody>\n",
       "</table>\n",
       "</div>"
      ],
      "text/plain": [
       "  show_id     type                  title         director  \\\n",
       "0      s1    Movie   Dick Johnson Is Dead  Kirsten Johnson   \n",
       "1      s2  TV Show          Blood & Water              NaN   \n",
       "2      s3  TV Show              Ganglands  Julien Leclercq   \n",
       "3      s4  TV Show  Jailbirds New Orleans              NaN   \n",
       "4      s5  TV Show           Kota Factory              NaN   \n",
       "\n",
       "                                                cast        country  \\\n",
       "0                                                NaN  United States   \n",
       "1  Ama Qamata, Khosi Ngema, Gail Mabalane, Thaban...   South Africa   \n",
       "2  Sami Bouajila, Tracy Gotoas, Samuel Jouy, Nabi...            NaN   \n",
       "3                                                NaN            NaN   \n",
       "4  Mayur More, Jitendra Kumar, Ranjan Raj, Alam K...          India   \n",
       "\n",
       "           date_added  release_year rating   duration  \\\n",
       "0  September 25, 2021          2020  PG-13     90 min   \n",
       "1  September 24, 2021          2021  TV-MA  2 Seasons   \n",
       "2  September 24, 2021          2021  TV-MA   1 Season   \n",
       "3  September 24, 2021          2021  TV-MA   1 Season   \n",
       "4  September 24, 2021          2021  TV-MA  2 Seasons   \n",
       "\n",
       "                                           listed_in  \\\n",
       "0                                      Documentaries   \n",
       "1    International TV Shows, TV Dramas, TV Mysteries   \n",
       "2  Crime TV Shows, International TV Shows, TV Act...   \n",
       "3                             Docuseries, Reality TV   \n",
       "4  International TV Shows, Romantic TV Shows, TV ...   \n",
       "\n",
       "                                         description  \n",
       "0  As her father nears the end of his life, filmm...  \n",
       "1  After crossing paths at a party, a Cape Town t...  \n",
       "2  To protect his family from a powerful drug lor...  \n",
       "3  Feuds, flirtations and toilet talk go down amo...  \n",
       "4  In a city of coaching centers known to train I...  "
      ]
     },
     "execution_count": 1,
     "metadata": {},
     "output_type": "execute_result"
    }
   ],
   "source": [
    "import pandas as pd\n",
    "\n",
    "# Load your cleaned dataset\n",
    "df = pd.read_csv(\"netflix_titles_clean_utf8.csv\")\n",
    "\n",
    "# Display the first few rows\n",
    "df.head()"
   ]
  },
  {
   "cell_type": "markdown",
   "id": "3f93cc13-49b1-4910-a938-f9cd85690b81",
   "metadata": {},
   "source": [
    "## 1.\tHow many rows and columns are contained in the dataset? "
   ]
  },
  {
   "cell_type": "code",
   "execution_count": 5,
   "id": "24309a43-0ac4-4bbb-8034-3a7f8e14b6b3",
   "metadata": {},
   "outputs": [
    {
     "data": {
      "text/plain": [
       "(8807, 12)"
      ]
     },
     "execution_count": 5,
     "metadata": {},
     "output_type": "execute_result"
    }
   ],
   "source": [
    "df.shape "
   ]
  },
  {
   "cell_type": "markdown",
   "id": "334354a0-b910-4d79-a52a-0215e30bf4f6",
   "metadata": {},
   "source": [
    "##### The dataset contains 8807 rows and 12 columns"
   ]
  },
  {
   "cell_type": "markdown",
   "id": "09d51dcf-2b57-44bc-89f1-0ec9fdb8849e",
   "metadata": {},
   "source": [
    "## 2.\tWhat datatypes are contained in the dataset? "
   ]
  },
  {
   "cell_type": "code",
   "execution_count": 4,
   "id": "98c49d3b-8fb0-482a-9802-596a6790d594",
   "metadata": {},
   "outputs": [
    {
     "data": {
      "text/plain": [
       "show_id         object\n",
       "type            object\n",
       "title           object\n",
       "director        object\n",
       "cast            object\n",
       "country         object\n",
       "date_added      object\n",
       "release_year     int64\n",
       "rating          object\n",
       "duration        object\n",
       "listed_in       object\n",
       "description     object\n",
       "dtype: object"
      ]
     },
     "execution_count": 4,
     "metadata": {},
     "output_type": "execute_result"
    }
   ],
   "source": [
    "df.dtypes"
   ]
  },
  {
   "cell_type": "markdown",
   "id": "eb10abf9-29f5-472c-af80-72cd363aaaa9",
   "metadata": {},
   "source": [
    "##### Answer:\n",
    "Most of the columns in the dataset are of type `object`.  \n",
    "The `release_year` column is of type `int64`."
   ]
  },
  {
   "cell_type": "markdown",
   "id": "f6b0a718-2f33-4b1d-846f-08f8439bff30",
   "metadata": {},
   "source": [
    "## 3.\tIs the dataset complete? i.e no missing values? "
   ]
  },
  {
   "cell_type": "code",
   "execution_count": 6,
   "id": "a72c9ade-c16e-43a5-aa9e-9532d8ad10f7",
   "metadata": {},
   "outputs": [
    {
     "data": {
      "text/plain": [
       "show_id            0\n",
       "type               0\n",
       "title              0\n",
       "director        2634\n",
       "cast             825\n",
       "country          831\n",
       "date_added        10\n",
       "release_year       0\n",
       "rating             4\n",
       "duration           3\n",
       "listed_in          0\n",
       "description        0\n",
       "dtype: int64"
      ]
     },
     "execution_count": 6,
     "metadata": {},
     "output_type": "execute_result"
    }
   ],
   "source": [
    "df.isnull().sum()"
   ]
  },
  {
   "cell_type": "markdown",
   "id": "234c6122-4dba-4ccc-990d-edeaa663a833",
   "metadata": {},
   "source": [
    "##### Answer:\n",
    "The dataset is not complete — some columns contain missing values.\n",
    "\n",
    "- `director` has 2,634 missing entries  \n",
    "- `cast` has 825 missing entries  \n",
    "- `country` has 831 missing entries  \n",
    "- `date_added` has 10 missing entries  \n",
    "- `rating` has 4 missing entries  \n",
    "- `duration` has 3 missing entries  \n",
    "\n",
    "All other columns are complete (no missing values).\n"
   ]
  },
  {
   "cell_type": "markdown",
   "id": "ba01f21b-bd2c-41f2-9954-fd42b10c5591",
   "metadata": {},
   "source": [
    "## 4.\tList the number of Movies and TV Shows among the last 20 rows of the dataset."
   ]
  },
  {
   "cell_type": "code",
   "execution_count": 7,
   "id": "35b79b5d-28c0-47dd-a2ad-6d7741fbd774",
   "metadata": {},
   "outputs": [
    {
     "data": {
      "text/plain": [
       "type\n",
       "Movie      15\n",
       "TV Show     5\n",
       "Name: count, dtype: int64"
      ]
     },
     "execution_count": 7,
     "metadata": {},
     "output_type": "execute_result"
    }
   ],
   "source": [
    "df.tail(20)['type'].value_counts()"
   ]
  },
  {
   "cell_type": "markdown",
   "id": "3b488a12-b78d-4a92-9d74-9b9d26305f3b",
   "metadata": {},
   "source": [
    "##### Answer:\n",
    "Among the last 20 rows of the dataset:\n",
    "- There are 15 Movies\n",
    "- There are 5 TV Shows"
   ]
  },
  {
   "attachments": {},
   "cell_type": "markdown",
   "id": "add5ee17-161d-4fca-a589-ceb41c1b1131",
   "metadata": {},
   "source": [
    "## 5.\tGive the number of all Movies originating from South Africa"
   ]
  },
  {
   "cell_type": "code",
   "execution_count": 8,
   "id": "c5f10493-afd1-478b-aae0-eb16285e639e",
   "metadata": {},
   "outputs": [
    {
     "data": {
      "text/plain": [
       "24"
      ]
     },
     "execution_count": 8,
     "metadata": {},
     "output_type": "execute_result"
    }
   ],
   "source": [
    "df[(df['country'] == 'South Africa') & (df['type'] == 'Movie')].shape[0]"
   ]
  },
  {
   "cell_type": "markdown",
   "id": "8794c007-ea26-4057-bc96-c686ee916d59",
   "metadata": {},
   "source": [
    "##### There are 24 movies from South Africa."
   ]
  },
  {
   "cell_type": "markdown",
   "id": "b5cc3b16-e413-4ebe-ade4-ee9888bd5305",
   "metadata": {},
   "source": [
    "## 6.\tWhat is the description of the movie in the 12th row?"
   ]
  },
  {
   "cell_type": "code",
   "execution_count": 9,
   "id": "33422944-5d35-48d1-b2dc-8d62599753d3",
   "metadata": {},
   "outputs": [
    {
     "data": {
      "text/plain": [
       "'Struggling to earn a living in Bangkok, a man joins an emergency rescue service and realizes he must unravel a citywide conspiracy.'"
      ]
     },
     "execution_count": 9,
     "metadata": {},
     "output_type": "execute_result"
    }
   ],
   "source": [
    "df.loc[11, 'description']"
   ]
  },
  {
   "cell_type": "markdown",
   "id": "f9327771-c2f0-4bcc-9224-5c7d4a331e10",
   "metadata": {},
   "source": [
    "##### The description is: 'Struggling to earn a living in Bangkok, a man joins an emergency rescue service and realizes he must unravel a citywide conspiracy.'"
   ]
  },
  {
   "attachments": {},
   "cell_type": "markdown",
   "id": "cd86462a-da92-4281-9d15-84cde0967b2e",
   "metadata": {},
   "source": [
    "## 7.\tFrom these South African movies, list only those released in 2021"
   ]
  },
  {
   "cell_type": "code",
   "execution_count": 10,
   "id": "4fea90e1-9c2d-4a77-bf88-110d75eb2963",
   "metadata": {},
   "outputs": [
    {
     "data": {
      "text/html": [
       "<div>\n",
       "<style scoped>\n",
       "    .dataframe tbody tr th:only-of-type {\n",
       "        vertical-align: middle;\n",
       "    }\n",
       "\n",
       "    .dataframe tbody tr th {\n",
       "        vertical-align: top;\n",
       "    }\n",
       "\n",
       "    .dataframe thead th {\n",
       "        text-align: right;\n",
       "    }\n",
       "</style>\n",
       "<table border=\"1\" class=\"dataframe\">\n",
       "  <thead>\n",
       "    <tr style=\"text-align: right;\">\n",
       "      <th></th>\n",
       "      <th>show_id</th>\n",
       "      <th>type</th>\n",
       "      <th>title</th>\n",
       "      <th>director</th>\n",
       "      <th>cast</th>\n",
       "      <th>country</th>\n",
       "      <th>date_added</th>\n",
       "      <th>release_year</th>\n",
       "      <th>rating</th>\n",
       "      <th>duration</th>\n",
       "      <th>listed_in</th>\n",
       "      <th>description</th>\n",
       "    </tr>\n",
       "  </thead>\n",
       "  <tbody>\n",
       "    <tr>\n",
       "      <th>293</th>\n",
       "      <td>s294</td>\n",
       "      <td>Movie</td>\n",
       "      <td>Slay</td>\n",
       "      <td>Adze Ugah</td>\n",
       "      <td>Enhle Mbali, Ramsey Nouah, Dawn Thandeka Kang,...</td>\n",
       "      <td>South Africa</td>\n",
       "      <td>August 8, 2021</td>\n",
       "      <td>2021</td>\n",
       "      <td>TV-MA</td>\n",
       "      <td>86 min</td>\n",
       "      <td>Comedies, International Movies, Romantic Movies</td>\n",
       "      <td>In pursuit of both success and validation, a g...</td>\n",
       "    </tr>\n",
       "    <tr>\n",
       "      <th>764</th>\n",
       "      <td>s765</td>\n",
       "      <td>Movie</td>\n",
       "      <td>Trippin' with the Kandasamys</td>\n",
       "      <td>Jayan Moodley</td>\n",
       "      <td>Jailoshini Naidoo, Maeshni Naicker, Madhushan ...</td>\n",
       "      <td>South Africa</td>\n",
       "      <td>June 4, 2021</td>\n",
       "      <td>2021</td>\n",
       "      <td>TV-14</td>\n",
       "      <td>94 min</td>\n",
       "      <td>Comedies, International Movies, Romantic Movies</td>\n",
       "      <td>To rekindle their marriages, best friends-turn...</td>\n",
       "    </tr>\n",
       "    <tr>\n",
       "      <th>881</th>\n",
       "      <td>s882</td>\n",
       "      <td>Movie</td>\n",
       "      <td>I Am All Girls</td>\n",
       "      <td>Donovan Marsh</td>\n",
       "      <td>Erica Wessels, Hlubi Mboya, Deon Lotz, Brendon...</td>\n",
       "      <td>South Africa</td>\n",
       "      <td>May 14, 2021</td>\n",
       "      <td>2021</td>\n",
       "      <td>TV-MA</td>\n",
       "      <td>107 min</td>\n",
       "      <td>Dramas, International Movies, Thrillers</td>\n",
       "      <td>A relentless detective finds common ground wit...</td>\n",
       "    </tr>\n",
       "    <tr>\n",
       "      <th>1172</th>\n",
       "      <td>s1173</td>\n",
       "      <td>Movie</td>\n",
       "      <td>Loyiso Gola: Unlearning</td>\n",
       "      <td>Kagiso Lediga</td>\n",
       "      <td>Loyiso Gola</td>\n",
       "      <td>South Africa</td>\n",
       "      <td>March 23, 2021</td>\n",
       "      <td>2021</td>\n",
       "      <td>TV-MA</td>\n",
       "      <td>60 min</td>\n",
       "      <td>Stand-Up Comedy</td>\n",
       "      <td>South African comedian Loyiso Gola serves up f...</td>\n",
       "    </tr>\n",
       "  </tbody>\n",
       "</table>\n",
       "</div>"
      ],
      "text/plain": [
       "     show_id   type                         title       director  \\\n",
       "293     s294  Movie                          Slay      Adze Ugah   \n",
       "764     s765  Movie  Trippin' with the Kandasamys  Jayan Moodley   \n",
       "881     s882  Movie                I Am All Girls  Donovan Marsh   \n",
       "1172   s1173  Movie       Loyiso Gola: Unlearning  Kagiso Lediga   \n",
       "\n",
       "                                                   cast       country  \\\n",
       "293   Enhle Mbali, Ramsey Nouah, Dawn Thandeka Kang,...  South Africa   \n",
       "764   Jailoshini Naidoo, Maeshni Naicker, Madhushan ...  South Africa   \n",
       "881   Erica Wessels, Hlubi Mboya, Deon Lotz, Brendon...  South Africa   \n",
       "1172                                        Loyiso Gola  South Africa   \n",
       "\n",
       "          date_added  release_year rating duration  \\\n",
       "293   August 8, 2021          2021  TV-MA   86 min   \n",
       "764     June 4, 2021          2021  TV-14   94 min   \n",
       "881     May 14, 2021          2021  TV-MA  107 min   \n",
       "1172  March 23, 2021          2021  TV-MA   60 min   \n",
       "\n",
       "                                            listed_in  \\\n",
       "293   Comedies, International Movies, Romantic Movies   \n",
       "764   Comedies, International Movies, Romantic Movies   \n",
       "881           Dramas, International Movies, Thrillers   \n",
       "1172                                  Stand-Up Comedy   \n",
       "\n",
       "                                            description  \n",
       "293   In pursuit of both success and validation, a g...  \n",
       "764   To rekindle their marriages, best friends-turn...  \n",
       "881   A relentless detective finds common ground wit...  \n",
       "1172  South African comedian Loyiso Gola serves up f...  "
      ]
     },
     "execution_count": 10,
     "metadata": {},
     "output_type": "execute_result"
    }
   ],
   "source": [
    "df[(df['country'] == 'South Africa') & \n",
    "   (df['release_year'] == 2021) & \n",
    "   (df['type'] == 'Movie')]"
   ]
  },
  {
   "cell_type": "markdown",
   "id": "bb13c9f9-168c-4c37-9f1f-7e06e5e1d0b5",
   "metadata": {},
   "source": [
    "##### Answer:\n",
    "There are 4 South African movies released in 2021:\n",
    "1. Slay - Directed by Adze Ugah\n",
    "2. Trippin' with the Kandasamys - Directed by Jayan Moodley\n",
    "3. I Am All Girls - Directed by Donovan Marsh\n",
    "4. Loyiso Gola: Unlearning - Directed by Kagiso Lediga"
   ]
  },
  {
   "cell_type": "markdown",
   "id": "69a90531-161d-40a6-94bd-c3e8414710e5",
   "metadata": {},
   "source": [
    "## 8.\tList the entire cast of all movies released in 2021."
   ]
  },
  {
   "cell_type": "code",
   "execution_count": 11,
   "id": "46189ee7-c1c4-4dca-84f0-64ca9b530e2c",
   "metadata": {},
   "outputs": [
    {
     "data": {
      "text/plain": [
       "6       Vanessa Hudgens, Kimiko Glenn, James Marsden, ...\n",
       "9       Melissa McCarthy, Chris O'Dowd, Kevin Kline, T...\n",
       "12      Luna Wedler, Jannis Niewöhner, Milan Peschel, ...\n",
       "13      Klara Castanho, Lucca Picon, Júlia Gomes, Marc...\n",
       "18      Freida Pinto, Logan Marshall-Green, Robert Joh...\n",
       "                              ...                        \n",
       "1425                                                  NaN\n",
       "1431    Engin Günaydın, Haluk Bilginer, Binnur Kaya, Ö...\n",
       "1436    Juan Sebastián Gutiérrez, Pablo Cano, Pablo Me...\n",
       "1466                                                  NaN\n",
       "1468             Cha In-pyo, Cho Dal-hwan, Song Jae-ryong\n",
       "Name: cast, Length: 277, dtype: object"
      ]
     },
     "execution_count": 11,
     "metadata": {},
     "output_type": "execute_result"
    }
   ],
   "source": [
    "df[(df['type'] == 'Movie') & (df['release_year'] == 2021)]['cast']"
   ]
  },
  {
   "cell_type": "markdown",
   "id": "332b1c6b-a4f0-4494-b47d-18addade31cf",
   "metadata": {},
   "source": [
    "##### Answer:\n",
    "The dataset contains 277 movies released in 2021, each with its corresponding cast listed above.  \n",
    "Examples include:  \n",
    "- Vanessa Hudgens, Kimiko Glenn, James Marsden  \n",
    "- Melissa McCarthy, Chris O'Dowd, Kevin Kline \n",
    "- Luna Wedler, Jannis Niewöhner, Milan Peschel and many more.\n",
    "\n",
    "Some rows have missing cast information (shown as `NaN`), meaning no cast data was recorded for those titles.\n"
   ]
  },
  {
   "cell_type": "markdown",
   "id": "224afd33-6f2f-4f84-b9a2-8978828c0847",
   "metadata": {},
   "source": [
    "## Team Photo\n",
    "![Team Photo](team_photo.png)"
   ]
  }
 ],
 "metadata": {
  "kernelspec": {
   "display_name": "Python [conda env:base] *",
   "language": "python",
   "name": "conda-base-py"
  },
  "language_info": {
   "codemirror_mode": {
    "name": "ipython",
    "version": 3
   },
   "file_extension": ".py",
   "mimetype": "text/x-python",
   "name": "python",
   "nbconvert_exporter": "python",
   "pygments_lexer": "ipython3",
   "version": "3.13.5"
  }
 },
 "nbformat": 4,
 "nbformat_minor": 5
}
