{
 "cells": [
  {
   "cell_type": "markdown",
   "id": "9a4cbb5d-a00b-4fc7-bdf6-947109304db8",
   "metadata": {},
   "source": [
    "## Question One"
   ]
  },
  {
   "cell_type": "code",
   "execution_count": 2,
   "id": "8c21ca2d-126c-4e54-a942-a4411e60c114",
   "metadata": {
    "scrolled": true
   },
   "outputs": [
    {
     "name": "stdin",
     "output_type": "stream",
     "text": [
      "Enter the number of days:  4\n"
     ]
    },
    {
     "name": "stdout",
     "output_type": "stream",
     "text": [
      "4.0 days equals 345600.0 seconds\n"
     ]
    }
   ],
   "source": [
    "# This program converts a given number of days to seconds\n",
    "\n",
    "# Get input from user\n",
    "days = float(input(\"Enter the number of days: \"))\n",
    "\n",
    "# Calculate seconds in the given days\n",
    "seconds = days * 24 * 60 * 60\n",
    "\n",
    "# Display the result\n",
    "print(f\"{days} days equals {seconds} seconds\")"
   ]
  },
  {
   "cell_type": "markdown",
   "id": "03b64dd1-2f30-494f-b057-966d40d13592",
   "metadata": {},
   "source": [
    "## Question Two"
   ]
  },
  {
   "cell_type": "code",
   "execution_count": 3,
   "id": "c2296d0d-5388-496a-99ac-77648f600bf0",
   "metadata": {
    "scrolled": true
   },
   "outputs": [
    {
     "name": "stdin",
     "output_type": "stream",
     "text": [
      "Enter the radius of the sphere:  7\n"
     ]
    },
    {
     "name": "stdout",
     "output_type": "stream",
     "text": [
      "The volume of the sphere with radius 7.0 is 1436.76 cubic units\n"
     ]
    }
   ],
   "source": [
    "# This program calculates the volume of a sphere given its radius\n",
    "\n",
    "import math\n",
    "\n",
    "# Get radius input from user\n",
    "radius = float(input(\"Enter the radius of the sphere: \"))\n",
    "\n",
    "# Calculate volume using the formula (4/3)πr³\n",
    "volume = (4/3) * math.pi * (radius ** 3)\n",
    "\n",
    "# Display the result rounded to 2 decimal places\n",
    "print(f\"The volume of the sphere with radius {radius} is {volume:.2f} cubic units\")\n"
   ]
  },
  {
   "cell_type": "markdown",
   "id": "3141de99-4a5d-4c3c-af89-69369249be81",
   "metadata": {},
   "source": [
    "## Question Three"
   ]
  },
  {
   "cell_type": "code",
   "execution_count": 8,
   "id": "2bf32932-b79c-4204-811b-e45883ff5cac",
   "metadata": {
    "scrolled": true
   },
   "outputs": [
    {
     "name": "stdin",
     "output_type": "stream",
     "text": [
      "Enter the side length of the square:  6\n"
     ]
    },
    {
     "name": "stdout",
     "output_type": "stream",
     "text": [
      "Area: 36.0\n",
      "Perimeter: 24.0\n"
     ]
    }
   ],
   "source": [
    "# This program uses functions to calculate area and perimeter of a square\n",
    "\n",
    "def calculate_area(side_length):\n",
    "    return side_length ** 2\n",
    "\n",
    "def calculate_perimeter(side_length):\n",
    "    return 4 * side_length\n",
    "\n",
    "# Get side length from user\n",
    "side = float(input(\"Enter the side length of the square: \"))\n",
    "\n",
    "# Calculate area and perimeter using functions\n",
    "area = calculate_area(side)\n",
    "perimeter = calculate_perimeter(side)\n",
    "\n",
    "# Display results\n",
    "print(f\"Area: {area}\")\n",
    "print(f\"Perimeter: {perimeter}\")"
   ]
  },
  {
   "cell_type": "markdown",
   "id": "4810a6bb-aa4c-48ef-bd65-84939369e31d",
   "metadata": {},
   "source": [
    "## Question Four"
   ]
  },
  {
   "cell_type": "code",
   "execution_count": 7,
   "id": "330db292-c91b-402e-8a85-7ed98e69617b",
   "metadata": {
    "scrolled": true
   },
   "outputs": [
    {
     "name": "stdin",
     "output_type": "stream",
     "text": [
      "Enter a character:  f\n"
     ]
    },
    {
     "name": "stdout",
     "output_type": "stream",
     "text": [
      "The character 'f' is lowercase\n"
     ]
    }
   ],
   "source": [
    "# This program determines if a character is uppercase or lowercase\n",
    "\n",
    "def check_character_case(character):\n",
    "    if character.isupper():\n",
    "        return \"uppercase\"\n",
    "    elif character.islower():\n",
    "        return \"lowercase\"\n",
    "    else:\n",
    "        return \"neither uppercase nor lowercase (possibly a number or symbol)\"\n",
    "\n",
    "# Get character input from user\n",
    "char = input(\"Enter a character: \")\n",
    "\n",
    "# Check if input is a single character\n",
    "if len(char) == 1:\n",
    "    # Determine case using function\n",
    "    case_result = check_character_case(char)\n",
    "    print(f\"The character '{char}' is {case_result}\")\n",
    "else:\n",
    "    print(\"Please enter only one character\")"
   ]
  },
  {
   "cell_type": "markdown",
   "id": "a43f02e0-5de5-4175-9523-9029911b4f37",
   "metadata": {},
   "source": [
    "## Question Five"
   ]
  },
  {
   "cell_type": "code",
   "execution_count": 9,
   "id": "b95fbedd-aff3-4c09-a8a0-91cbe413c888",
   "metadata": {
    "scrolled": true
   },
   "outputs": [
    {
     "name": "stdout",
     "output_type": "stream",
     "text": [
      "Final value of x: 1.0416666666666665\n"
     ]
    }
   ],
   "source": [
    "# Converting the given pseudocode to Python equivalent\n",
    "\n",
    "# Initialize variables as per pseudocode\n",
    "x = 0\n",
    "y = 20\n",
    "\n",
    "# Execute the loop until y is less than 6\n",
    "while y >= 6: \n",
    "    y = y - 4\n",
    "    x = x + (2/y)\n",
    "\n",
    "# Display the final value of x\n",
    "print(f\"Final value of x: {x}\")"
   ]
  },
  {
   "cell_type": "markdown",
   "id": "010216c0-d455-4b43-a829-2c9949af9915",
   "metadata": {},
   "source": [
    "## Question Six"
   ]
  },
  {
   "cell_type": "code",
   "execution_count": 10,
   "id": "f415dad2-7ace-4b70-b271-a3c1eb0a969c",
   "metadata": {
    "scrolled": true
   },
   "outputs": [
    {
     "name": "stdout",
     "output_type": "stream",
     "text": [
      "Please enter 5 numbers:\n"
     ]
    },
    {
     "name": "stdin",
     "output_type": "stream",
     "text": [
      "Enter number 1:  3\n",
      "Enter number 2:  4\n",
      "Enter number 3:  5\n",
      "Enter number 4:  6\n",
      "Enter number 5:  7\n"
     ]
    },
    {
     "name": "stdout",
     "output_type": "stream",
     "text": [
      "\n",
      "Values entered: [3.0, 4.0, 5.0, 6.0, 7.0]\n",
      "Average of the values: 5.00\n"
     ]
    }
   ],
   "source": [
    " ## This program uses a loop to input 5 values and calculate their average\n",
    "\n",
    "# Initialize empty list to store values\n",
    "values = []\n",
    "\n",
    "print(\"Please enter 5 numbers:\")\n",
    "\n",
    "# Use loop to get 5 values from user\n",
    "for i in range(5):\n",
    "    # Get input with descriptive prompt showing current number\n",
    "    number = float(input(f\"Enter number {i + 1}: \"))\n",
    "    # Add the number to our array (list)\n",
    "    values.append(number)\n",
    "\n",
    "# Sum all values and divide by count\n",
    "average = sum(values) / len(values)\n",
    "\n",
    "# Display the results\n",
    "print(f\"\\nValues entered: {values}\")\n",
    "print(f\"Average of the values: {average:.2f}\")"
   ]
  }
 ],
 "metadata": {
  "kernelspec": {
   "display_name": "Python [conda env:base] *",
   "language": "python",
   "name": "conda-base-py"
  },
  "language_info": {
   "codemirror_mode": {
    "name": "ipython",
    "version": 3
   },
   "file_extension": ".py",
   "mimetype": "text/x-python",
   "name": "python",
   "nbconvert_exporter": "python",
   "pygments_lexer": "ipython3",
   "version": "3.13.5"
  }
 },
 "nbformat": 4,
 "nbformat_minor": 5
}
